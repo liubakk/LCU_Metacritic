{
 "metadata": {
  "language_info": {
   "codemirror_mode": {
    "name": "ipython",
    "version": 3
   },
   "file_extension": ".py",
   "mimetype": "text/x-python",
   "name": "python",
   "nbconvert_exporter": "python",
   "pygments_lexer": "ipython3",
   "version": "3.7.4-final"
  },
  "orig_nbformat": 2,
  "kernelspec": {
   "name": "python3",
   "display_name": "Python 3"
  }
 },
 "nbformat": 4,
 "nbformat_minor": 2,
 "cells": [
  {
   "cell_type": "code",
   "execution_count": 1,
   "metadata": {
    "tags": []
   },
   "outputs": [
    {
     "output_type": "stream",
     "name": "stderr",
     "text": "[nltk_data] Downloading package vader_lexicon to\n[nltk_data]     /Users/liuba/nltk_data...\n[nltk_data]   Package vader_lexicon is already up-to-date!\n"
    }
   ],
   "source": [
    "import praw\n",
    "from textblob import TextBlob\n",
    "# VADER can be accessed by the NLTK library.\n",
    "import nltk\n",
    "# Download the VADAR tool and access it through the NLTK library.\n",
    "nltk.download(\"vader_lexicon\")\n",
    "from nltk.sentiment.vader import SentimentIntensityAnalyzer"
   ]
  },
  {
   "cell_type": "code",
   "execution_count": 2,
   "metadata": {},
   "outputs": [],
   "source": [
    "reddit = praw.Reddit(client_id='5YD5YW7SySBWEQ',\n",
    "                     client_secret='aFKHffRIj5J42GIv9VP8PC-jrlw',\n",
    "                     password='P4SBMH5KGYJgDYm',\n",
    "                     user_agent='reddit_ninja',\n",
    "                     username='lcuzacov')"
   ]
  },
  {
   "cell_type": "code",
   "execution_count": 3,
   "metadata": {},
   "outputs": [],
   "source": [
    "top_posts = reddit.subreddit('Showerthoughts').top('day', limit=5)"
   ]
  },
  {
   "cell_type": "code",
   "execution_count": 4,
   "metadata": {},
   "outputs": [],
   "source": [
    "# Sentiment analysis function for TextBlob tools\n",
    "def text_blob_sentiment(review, sub_entries_textblob):\n",
    "    analysis = TextBlob(review)\n",
    "    if analysis.sentiment.polarity >= 0.0001:\n",
    "        if analysis.sentiment.polarity > 0:\n",
    "            sub_entries_textblob['positive'] += 1\n",
    "            sub_entries_textblob['total'] += 1\n",
    "            return 'Positive'\n",
    "\n",
    "    elif analysis.sentiment.polarity <= -0.0001:\n",
    "        if analysis.sentiment.polarity <= 0:\n",
    "            sub_entries_textblob['negative'] += 1\n",
    "            sub_entries_textblob['total'] += 1\n",
    "            return 'Negative'\n",
    "    else:\n",
    "        sub_entries_textblob['neutral'] += 1\n",
    "        sub_entries_textblob['total'] += 1\n",
    "        return 'Neutral'"
   ]
  },
  {
   "cell_type": "code",
   "execution_count": 5,
   "metadata": {},
   "outputs": [],
   "source": [
    "# create object for VADER sentiment function interaction\n",
    "sia = SentimentIntensityAnalyzer()\n",
    "\n",
    "# sentiment analysis function for VADER tool\n",
    "def nltk_sentiment(review, sub_entries_nltk):\n",
    "    vs = sia.polarity_scores(review)\n",
    "    if not vs['neg'] > 0.05:\n",
    "        if vs['pos'] - vs['neg'] > 0:\n",
    "            sub_entries_nltk['positive'] += 1\n",
    "            sub_entries_nltk['total'] += 1\n",
    "            return 'Positive'\n",
    "        else:\n",
    "            sub_entries_nltk['neutral'] += 1\n",
    "            sub_entries_nltk['total'] += 1\n",
    "            return 'Neutral'\n",
    "\n",
    "    elif not vs['pos'] > 0.05:\n",
    "        if vs['pos'] - vs['neg'] <= 0:\n",
    "            sub_entries_nltk['negative'] += 1\n",
    "            sub_entries_nltk['total'] += 1\n",
    "            return 'Negative'\n",
    "        else:\n",
    "            sub_entries_nltk['neutral'] += 1\n",
    "            sub_entries_nltk['total'] += 1\n",
    "            return 'Neutral'\n",
    "    else:\n",
    "        sub_entries_nltk['neutral'] += 1\n",
    "        sub_entries_nltk['total'] += 1\n",
    "        return 'Neutral'\n"
   ]
  },
  {
   "cell_type": "code",
   "execution_count": 6,
   "metadata": {},
   "outputs": [],
   "source": [
    "# replication of comment section of reddit post\n",
    "def replies_of(top_level_comment, count_comment, sub_entries_textblob, sub_entries_nltk):\n",
    "    if len(top_level_comment.replies) == 0:\n",
    "        count_comment = 0\n",
    "        return\n",
    "    else:\n",
    "        for num, comment in enumerate(top_level_comment.replies):\n",
    "            try:\n",
    "                count_comment += 1\n",
    "                #print('-' * count_comment)\n",
    "                text_blob_sentiment(comment.body, sub_entries_textblob)\n",
    "                nltk_sentiment(comment.body, sub_entries_nltk)\n",
    "            except:\n",
    "                continue\n",
    "            replies_of(comment, count_comment, sub_entries_textblob,sub_entries_nltk)"
   ]
  },
  {
   "cell_type": "code",
   "execution_count": 7,
   "metadata": {
    "tags": []
   },
   "outputs": [
    {
     "output_type": "stream",
     "name": "stdout",
     "text": "Title of the post : there's a 1 in 7 chance that the meteor that killed the dinosaurs hit on a monday\nOver all Sentiment of Topic by TextBlob : {'total': 290, 'negative': 64, 'positive': 87, 'neutral': 139}\nOver all Sentiment of Topic by VADER : {'total': 290, 'negative': 55, 'positive': 90, 'neutral': 145}\n\n\n\n\nTitle of the post : There’s nothing more irritating than listening to a group of people talk, so inaccurately, about a subject in which you are a profesional and well versed.\nOver all Sentiment of Topic by TextBlob : {'total': 402, 'negative': 132, 'positive': 171, 'neutral': 99}\nOver all Sentiment of Topic by VADER : {'total': 402, 'negative': 82, 'positive': 110, 'neutral': 210}\n\n\n\n\nTitle of the post : Internet Explorer was so slow that it was able to delay its own death for like 10 years or so\nOver all Sentiment of Topic by TextBlob : {'total': 86, 'negative': 19, 'positive': 34, 'neutral': 33}\nOver all Sentiment of Topic by VADER : {'total': 86, 'negative': 11, 'positive': 30, 'neutral': 45}\n\n\n\n\nTitle of the post : Somehwere out there a tree is growing the wood for your coffin\nOver all Sentiment of Topic by TextBlob : {'total': 425, 'negative': 64, 'positive': 111, 'neutral': 250}\nOver all Sentiment of Topic by VADER : {'total': 425, 'negative': 72, 'positive': 146, 'neutral': 207}\n\n\n\n\nTitle of the post : While you scroll down, you don't actually do it. You just change the colors of pixels.\nOver all Sentiment of Topic by TextBlob : {'total': 81, 'negative': 14, 'positive': 21, 'neutral': 46}\nOver all Sentiment of Topic by VADER : {'total': 81, 'negative': 19, 'positive': 19, 'neutral': 43}\n\n\n\n\n"
    }
   ],
   "source": [
    "for submission in top_posts:\n",
    "        sub_entries_textblob = {'total': 0, 'negative': 0, 'positive' : 0, 'neutral' : 0}\n",
    "        sub_entries_nltk = {'total': 0, 'negative': 0, 'positive' : 0, 'neutral' : 0}\n",
    "        print('Title of the post :', submission.title)\n",
    "        \n",
    "        text_blob_sentiment(submission.title, sub_entries_textblob)\n",
    "        nltk_sentiment(submission.title, sub_entries_nltk)\n",
    "        \n",
    "        submission_comm = reddit.submission(id=submission.id)\n",
    "            \n",
    "        com_count = 0\n",
    "        for count, top_level_comment in enumerate(submission_comm.comments):\n",
    "            count_comm = 0\n",
    "            try :\n",
    "                text_blob_sentiment(top_level_comment.body, sub_entries_textblob)\n",
    "                nltk_sentiment(top_level_comment.body, sub_entries_nltk)\n",
    "                replies_of(top_level_comment, count_comm, sub_entries_textblob, sub_entries_nltk)\n",
    "            except:\n",
    "                continue\n",
    "        print('Over all Sentiment of Topic by TextBlob :', sub_entries_textblob)\n",
    "        print('Over all Sentiment of Topic by VADER :', sub_entries_nltk)\n",
    "        print(\"\\n\\n\\n\")"
   ]
  },
  {
   "cell_type": "code",
   "execution_count": null,
   "metadata": {},
   "outputs": [],
   "source": []
  }
 ]
}