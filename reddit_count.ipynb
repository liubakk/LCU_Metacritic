{
 "metadata": {
  "language_info": {
   "codemirror_mode": {
    "name": "ipython",
    "version": 3
   },
   "file_extension": ".py",
   "mimetype": "text/x-python",
   "name": "python",
   "nbconvert_exporter": "python",
   "pygments_lexer": "ipython3",
   "version": "3.7.4-final"
  },
  "orig_nbformat": 2,
  "kernelspec": {
   "name": "python_defaultSpec_1598001791515",
   "display_name": "Python 3.7.4 64-bit ('base': conda)"
  }
 },
 "nbformat": 4,
 "nbformat_minor": 2,
 "cells": [
  {
   "cell_type": "code",
   "execution_count": 1,
   "metadata": {
    "tags": []
   },
   "outputs": [
    {
     "output_type": "stream",
     "name": "stderr",
     "text": "[nltk_data] Downloading package vader_lexicon to\n[nltk_data]     /Users/liuba/nltk_data...\n[nltk_data]   Package vader_lexicon is already up-to-date!\n"
    }
   ],
   "source": [
    "import praw\n",
    "from textblob import TextBlob\n",
    "# VADER can be accessed by the NLTK library.\n",
    "import nltk\n",
    "# Download the VADAR tool and access it through the NLTK library.\n",
    "nltk.download(\"vader_lexicon\")\n",
    "from nltk.sentiment.vader import SentimentIntensityAnalyzer"
   ]
  },
  {
   "cell_type": "code",
   "execution_count": 10,
   "metadata": {},
   "outputs": [],
   "source": [
    "reddit = praw.Reddit(client_id='5YD5YW7SySBWEQ',\n",
    "                     client_secret='aFKHffRIj5J42GIv9VP8PC-jrlw',\n",
    "                     password='P4SBMH5KGYJgDYm',\n",
    "                     user_agent='reddit_ninja',\n",
    "                     username='lcuzacov')"
   ]
  },
  {
   "cell_type": "code",
   "execution_count": 11,
   "metadata": {
    "tags": []
   },
   "outputs": [
    {
     "output_type": "stream",
     "name": "stdout",
     "text": "lcuzacov\n"
    }
   ],
   "source": [
    "print(reddit.user.me())\n"
   ]
  },
  {
   "cell_type": "code",
   "execution_count": 36,
   "metadata": {},
   "outputs": [],
   "source": [
    "all_posts = reddit.subreddit('Showerthoughts').top('year',limit=5)"
   ]
  },
  {
   "cell_type": "code",
   "execution_count": 37,
   "metadata": {
    "tags": []
   },
   "outputs": [
    {
     "output_type": "stream",
     "name": "stdout",
     "text": "We laugh at dogs getting excited when they hear a bark on TV, but if TV was a nonstop stream of unintelligible noises and then someone suddenly spoke to you in your language, you'd be pretty fucking startled too.\nBeing able to tolerate the sound of your own voice in a video is probably the highest form of self acceptance.\nIf elevators hadn't been invented, all the CEOs and important people would have their offices on the first floor as a sign of status.\nDuring a nuclear explosion, there is a certain distance of the radius where all the frozen supermarket pizzas are cooked to perfection.\nPavlov probably thought about feeding his dogs every time someone rang a bell.\n"
    }
   ],
   "source": [
    "post_count = 0\n",
    "for submission in all_posts:\n",
    "    #post_count += 1\n",
    "    print(submission.title)\n",
    "#print('total:', post_count)"
   ]
  },
  {
   "cell_type": "code",
   "execution_count": 47,
   "metadata": {
    "tags": []
   },
   "outputs": [
    {
     "output_type": "stream",
     "name": "stdout",
     "text": "total: 984\n"
    }
   ],
   "source": [
    "yday_posts = reddit.subreddit('Showerthoughts').new(limit=10000)\n",
    "post_count = 0\n",
    "for submission in yday_posts:\n",
    "    post_count += 1\n",
    "print('total:', post_count)"
   ]
  },
  {
   "cell_type": "code",
   "execution_count": null,
   "metadata": {},
   "outputs": [],
   "source": []
  }
 ]
}