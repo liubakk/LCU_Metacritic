{
 "metadata": {
  "language_info": {
   "codemirror_mode": {
    "name": "ipython",
    "version": 3
   },
   "file_extension": ".py",
   "mimetype": "text/x-python",
   "name": "python",
   "nbconvert_exporter": "python",
   "pygments_lexer": "ipython3",
   "version": "3.7.4-final"
  },
  "orig_nbformat": 2,
  "kernelspec": {
   "name": "python_defaultSpec_1598435798106",
   "display_name": "Python 3.7.4 64-bit ('base': conda)"
  }
 },
 "nbformat": 4,
 "nbformat_minor": 2,
 "cells": [
  {
   "cell_type": "code",
   "execution_count": 196,
   "metadata": {
    "tags": []
   },
   "outputs": [
    {
     "output_type": "execute_result",
     "data": {
      "text/plain": "                        title       platform  metascore  critic_reviews  \\\n0            battlefield-1942             pc         89              27   \n1         battlefield-vietnam             pc         84              48   \n2               battlefield-2             pc         91              55   \n3            battlefield-2142             pc         80              48   \n4     battlefield-bad-company  playstation-3         84              50   \n5     battlefield-bad-company       xbox-360         83              70   \n6   battlefield-bad-company-2             pc         87              46   \n7   battlefield-bad-company-2  playstation-3         88              59   \n8   battlefield-bad-company-2       xbox-360         88              75   \n9               battlefield-3             pc         89              61   \n10              battlefield-3  playstation-3         85              38   \n11              battlefield-3       xbox-360         84              57   \n12              battlefield-4             pc         81              52   \n13              battlefield-4  playstation-3         80              14   \n14              battlefield-4  playstation-4         85              18   \n15              battlefield-4       xbox-360         79              21   \n16              battlefield-4       xbox-one         81               5   \n17       battlefield-hardline             pc         71              31   \n18       battlefield-hardline  playstation-3          0               0   \n19       battlefield-hardline  playstation-4         73              46   \n20       battlefield-hardline       xbox-360          0               0   \n21       battlefield-hardline       xbox-one         71              27   \n22              battlefield-v             pc         81              52   \n23              battlefield-v  playstation-4         73              23   \n24              battlefield-v       xbox-one         78              38   \n25              battlefield-1             pc         88              54   \n26              battlefield-1  playstation-4         89              34   \n27              battlefield-1       xbox-one         87              39   \n\n    pos_critic_count  mix_critic_count  neg_critic_count  user_score  \\\n0                 27                 0                 0         8.6   \n1                 45                 3                 0         7.6   \n2                 54                 1                 0         8.4   \n3                 41                 7                 0         6.8   \n4                 48                 2                 0         8.1   \n5                 61                 9                 0         7.7   \n6                 45                 1                 0         8.3   \n7                 58                 1                 0         8.5   \n8                 72                 3                 0         8.6   \n9                 60                 1                 0         7.6   \n10                35                 3                 0         7.5   \n11                53                 4                 0         7.5   \n12                42                10                 0         6.1   \n13                11                 3                 0         5.9   \n14                17                 1                 0         7.1   \n15                16                 5                 0         5.7   \n16                 5                 0                 0         6.7   \n17                14                16                 1         4.1   \n18                 0                 0                 0         5.4   \n19                25                21                 0         5.1   \n20                 0                 0                 0         4.5   \n21                 9                18                 0         5.2   \n22                45                 7                 0         2.9   \n23                15                 8                 0         2.3   \n24                30                 8                 0         2.8   \n25                52                 2                 0         7.1   \n26                34                 0                 0         7.9   \n27                37                 2                 0         7.6   \n\n    user_ratings  \n0            428  \n1            163  \n2           1005  \n3            354  \n4            244  \n5            286  \n6           1721  \n7            622  \n8            925  \n9           5277  \n10          1838  \n11          2171  \n12          3808  \n13           616  \n14          1973  \n15           560  \n16           538  \n17           891  \n18            90  \n19           976  \n20            73  \n21           324  \n22          2786  \n23          2484  \n24           750  \n25          2205  \n26          2024  \n27           694  ",
      "text/html": "<div>\n<style scoped>\n    .dataframe tbody tr th:only-of-type {\n        vertical-align: middle;\n    }\n\n    .dataframe tbody tr th {\n        vertical-align: top;\n    }\n\n    .dataframe thead th {\n        text-align: right;\n    }\n</style>\n<table border=\"1\" class=\"dataframe\">\n  <thead>\n    <tr style=\"text-align: right;\">\n      <th></th>\n      <th>title</th>\n      <th>platform</th>\n      <th>metascore</th>\n      <th>critic_reviews</th>\n      <th>pos_critic_count</th>\n      <th>mix_critic_count</th>\n      <th>neg_critic_count</th>\n      <th>user_score</th>\n      <th>user_ratings</th>\n    </tr>\n  </thead>\n  <tbody>\n    <tr>\n      <td>0</td>\n      <td>battlefield-1942</td>\n      <td>pc</td>\n      <td>89</td>\n      <td>27</td>\n      <td>27</td>\n      <td>0</td>\n      <td>0</td>\n      <td>8.6</td>\n      <td>428</td>\n    </tr>\n    <tr>\n      <td>1</td>\n      <td>battlefield-vietnam</td>\n      <td>pc</td>\n      <td>84</td>\n      <td>48</td>\n      <td>45</td>\n      <td>3</td>\n      <td>0</td>\n      <td>7.6</td>\n      <td>163</td>\n    </tr>\n    <tr>\n      <td>2</td>\n      <td>battlefield-2</td>\n      <td>pc</td>\n      <td>91</td>\n      <td>55</td>\n      <td>54</td>\n      <td>1</td>\n      <td>0</td>\n      <td>8.4</td>\n      <td>1005</td>\n    </tr>\n    <tr>\n      <td>3</td>\n      <td>battlefield-2142</td>\n      <td>pc</td>\n      <td>80</td>\n      <td>48</td>\n      <td>41</td>\n      <td>7</td>\n      <td>0</td>\n      <td>6.8</td>\n      <td>354</td>\n    </tr>\n    <tr>\n      <td>4</td>\n      <td>battlefield-bad-company</td>\n      <td>playstation-3</td>\n      <td>84</td>\n      <td>50</td>\n      <td>48</td>\n      <td>2</td>\n      <td>0</td>\n      <td>8.1</td>\n      <td>244</td>\n    </tr>\n    <tr>\n      <td>5</td>\n      <td>battlefield-bad-company</td>\n      <td>xbox-360</td>\n      <td>83</td>\n      <td>70</td>\n      <td>61</td>\n      <td>9</td>\n      <td>0</td>\n      <td>7.7</td>\n      <td>286</td>\n    </tr>\n    <tr>\n      <td>6</td>\n      <td>battlefield-bad-company-2</td>\n      <td>pc</td>\n      <td>87</td>\n      <td>46</td>\n      <td>45</td>\n      <td>1</td>\n      <td>0</td>\n      <td>8.3</td>\n      <td>1721</td>\n    </tr>\n    <tr>\n      <td>7</td>\n      <td>battlefield-bad-company-2</td>\n      <td>playstation-3</td>\n      <td>88</td>\n      <td>59</td>\n      <td>58</td>\n      <td>1</td>\n      <td>0</td>\n      <td>8.5</td>\n      <td>622</td>\n    </tr>\n    <tr>\n      <td>8</td>\n      <td>battlefield-bad-company-2</td>\n      <td>xbox-360</td>\n      <td>88</td>\n      <td>75</td>\n      <td>72</td>\n      <td>3</td>\n      <td>0</td>\n      <td>8.6</td>\n      <td>925</td>\n    </tr>\n    <tr>\n      <td>9</td>\n      <td>battlefield-3</td>\n      <td>pc</td>\n      <td>89</td>\n      <td>61</td>\n      <td>60</td>\n      <td>1</td>\n      <td>0</td>\n      <td>7.6</td>\n      <td>5277</td>\n    </tr>\n    <tr>\n      <td>10</td>\n      <td>battlefield-3</td>\n      <td>playstation-3</td>\n      <td>85</td>\n      <td>38</td>\n      <td>35</td>\n      <td>3</td>\n      <td>0</td>\n      <td>7.5</td>\n      <td>1838</td>\n    </tr>\n    <tr>\n      <td>11</td>\n      <td>battlefield-3</td>\n      <td>xbox-360</td>\n      <td>84</td>\n      <td>57</td>\n      <td>53</td>\n      <td>4</td>\n      <td>0</td>\n      <td>7.5</td>\n      <td>2171</td>\n    </tr>\n    <tr>\n      <td>12</td>\n      <td>battlefield-4</td>\n      <td>pc</td>\n      <td>81</td>\n      <td>52</td>\n      <td>42</td>\n      <td>10</td>\n      <td>0</td>\n      <td>6.1</td>\n      <td>3808</td>\n    </tr>\n    <tr>\n      <td>13</td>\n      <td>battlefield-4</td>\n      <td>playstation-3</td>\n      <td>80</td>\n      <td>14</td>\n      <td>11</td>\n      <td>3</td>\n      <td>0</td>\n      <td>5.9</td>\n      <td>616</td>\n    </tr>\n    <tr>\n      <td>14</td>\n      <td>battlefield-4</td>\n      <td>playstation-4</td>\n      <td>85</td>\n      <td>18</td>\n      <td>17</td>\n      <td>1</td>\n      <td>0</td>\n      <td>7.1</td>\n      <td>1973</td>\n    </tr>\n    <tr>\n      <td>15</td>\n      <td>battlefield-4</td>\n      <td>xbox-360</td>\n      <td>79</td>\n      <td>21</td>\n      <td>16</td>\n      <td>5</td>\n      <td>0</td>\n      <td>5.7</td>\n      <td>560</td>\n    </tr>\n    <tr>\n      <td>16</td>\n      <td>battlefield-4</td>\n      <td>xbox-one</td>\n      <td>81</td>\n      <td>5</td>\n      <td>5</td>\n      <td>0</td>\n      <td>0</td>\n      <td>6.7</td>\n      <td>538</td>\n    </tr>\n    <tr>\n      <td>17</td>\n      <td>battlefield-hardline</td>\n      <td>pc</td>\n      <td>71</td>\n      <td>31</td>\n      <td>14</td>\n      <td>16</td>\n      <td>1</td>\n      <td>4.1</td>\n      <td>891</td>\n    </tr>\n    <tr>\n      <td>18</td>\n      <td>battlefield-hardline</td>\n      <td>playstation-3</td>\n      <td>0</td>\n      <td>0</td>\n      <td>0</td>\n      <td>0</td>\n      <td>0</td>\n      <td>5.4</td>\n      <td>90</td>\n    </tr>\n    <tr>\n      <td>19</td>\n      <td>battlefield-hardline</td>\n      <td>playstation-4</td>\n      <td>73</td>\n      <td>46</td>\n      <td>25</td>\n      <td>21</td>\n      <td>0</td>\n      <td>5.1</td>\n      <td>976</td>\n    </tr>\n    <tr>\n      <td>20</td>\n      <td>battlefield-hardline</td>\n      <td>xbox-360</td>\n      <td>0</td>\n      <td>0</td>\n      <td>0</td>\n      <td>0</td>\n      <td>0</td>\n      <td>4.5</td>\n      <td>73</td>\n    </tr>\n    <tr>\n      <td>21</td>\n      <td>battlefield-hardline</td>\n      <td>xbox-one</td>\n      <td>71</td>\n      <td>27</td>\n      <td>9</td>\n      <td>18</td>\n      <td>0</td>\n      <td>5.2</td>\n      <td>324</td>\n    </tr>\n    <tr>\n      <td>22</td>\n      <td>battlefield-v</td>\n      <td>pc</td>\n      <td>81</td>\n      <td>52</td>\n      <td>45</td>\n      <td>7</td>\n      <td>0</td>\n      <td>2.9</td>\n      <td>2786</td>\n    </tr>\n    <tr>\n      <td>23</td>\n      <td>battlefield-v</td>\n      <td>playstation-4</td>\n      <td>73</td>\n      <td>23</td>\n      <td>15</td>\n      <td>8</td>\n      <td>0</td>\n      <td>2.3</td>\n      <td>2484</td>\n    </tr>\n    <tr>\n      <td>24</td>\n      <td>battlefield-v</td>\n      <td>xbox-one</td>\n      <td>78</td>\n      <td>38</td>\n      <td>30</td>\n      <td>8</td>\n      <td>0</td>\n      <td>2.8</td>\n      <td>750</td>\n    </tr>\n    <tr>\n      <td>25</td>\n      <td>battlefield-1</td>\n      <td>pc</td>\n      <td>88</td>\n      <td>54</td>\n      <td>52</td>\n      <td>2</td>\n      <td>0</td>\n      <td>7.1</td>\n      <td>2205</td>\n    </tr>\n    <tr>\n      <td>26</td>\n      <td>battlefield-1</td>\n      <td>playstation-4</td>\n      <td>89</td>\n      <td>34</td>\n      <td>34</td>\n      <td>0</td>\n      <td>0</td>\n      <td>7.9</td>\n      <td>2024</td>\n    </tr>\n    <tr>\n      <td>27</td>\n      <td>battlefield-1</td>\n      <td>xbox-one</td>\n      <td>87</td>\n      <td>39</td>\n      <td>37</td>\n      <td>2</td>\n      <td>0</td>\n      <td>7.6</td>\n      <td>694</td>\n    </tr>\n  </tbody>\n</table>\n</div>"
     },
     "metadata": {},
     "execution_count": 196
    }
   ],
   "source": [
    "import requests \n",
    "from bs4 import BeautifulSoup\n",
    "import re\n",
    "import pandas as pd\n",
    "\n",
    "#dictionary for data scraping\n",
    "metacritic_dict = {'title':[], 'platform':[], 'metascore':[], 'critic_reviews':[],'pos_critic_count':[],'mix_critic_count':[],'neg_critic_count':[], 'user_score':[], 'user_ratings':[]}\n",
    "\n",
    "# titles and platforms\n",
    "titles = [\"battlefield-1942\",\"battlefield-vietnam\",\"battlefield-2\",\"battlefield-2142\",\n",
    "            \"battlefield-bad-company\",\"battlefield-bad-company-2\",\"battlefield-3\",\"battlefield-4\",\n",
    "            \"battlefield-hardline\",\"battlefield-v\",\"battlefield-1\"]\n",
    "platforms = [\"pc\", \"playstation-3\",\"playstation-4\",\"xbox-360\", \"xbox-one\"]\n",
    "user_agent = {'User-agent': 'Mozilla/5.0'}\n",
    "\n",
    "for i in range(0,len(titles)):\n",
    "    for j in range(0,len(platforms)):\n",
    "             \n",
    "        url = 'https://www.metacritic.com/game/'+platforms[j]+'/'+titles[i]\n",
    "        response  = requests.get(url, headers = user_agent)\n",
    "\n",
    "        \n",
    "        if response.status_code == 200: #if the combination of title and platform exists\n",
    "\n",
    "            #title and platform\n",
    "            metacritic_dict['title'].append(titles[i])\n",
    "            metacritic_dict['platform'].append(platforms[j])\n",
    "\n",
    "            soup = BeautifulSoup(response.text, 'html.parser')\n",
    "            url_base = '/game/'+platforms[j]+'/'+titles[i]\n",
    "            \n",
    "            #metascore\n",
    "            critic_score = soup.find('a', class_='metascore_anchor', href=url_base+'/critic-reviews')\n",
    "            if critic_score == None:\n",
    "                metacritic_dict['metascore'].append(int(0))\n",
    "            else:\n",
    "                metacritic_dict['metascore'].append(int(critic_score.find('span').text))\n",
    "        \n",
    "            #user score\n",
    "            user_score = soup.find('a', class_='metascore_anchor', href=url_base+'/user-reviews')\n",
    "            if user_score == None:\n",
    "                metacritic_dict['user_score'].append(float(0))\n",
    "            else:\n",
    "                metacritic_dict['user_score'].append(float(user_score.find('div').text))\n",
    "            \n",
    "            url_base_count = url_base +'/critic-reviews?dist='\n",
    "            \n",
    "            #number of positive critic reviews\n",
    "            pos_critic_count = soup.find('a', href=url_base_count+'positive')\n",
    "            if pos_critic_count == None:\n",
    "                metacritic_dict['pos_critic_count'].append(int(0))\n",
    "            else:\n",
    "                metacritic_dict['pos_critic_count'].append(int(pos_critic_count.find('span', class_=\"count\").text))\n",
    "            \n",
    "            #number of neutral critic reviews\n",
    "            mix_critic_count = soup.find('a', href=url_base_count+'neutral')\n",
    "            if mix_critic_count == None:\n",
    "                metacritic_dict['mix_critic_count'].append(int(0))\n",
    "            else:\n",
    "                metacritic_dict['mix_critic_count'].append(int(mix_critic_count.find('span', class_=\"count\").text))\n",
    "            \n",
    "            #number of negative critic reviews\n",
    "            neg_critic_count = soup.find('a', href=url_base_count+'negative')\n",
    "            if neg_critic_count == None:\n",
    "                metacritic_dict['neg_critic_count'].append(int(0))\n",
    "            else:\n",
    "                metacritic_dict['neg_critic_count'].append(int(neg_critic_count.find('span', class_=\"count\").text))\n",
    "            \n",
    "            #number of user reviews\n",
    "            for summary in soup.find_all('div', class_='summary'):\n",
    "                if summary.find('a') == None:\n",
    "                    break\n",
    "                if summary.find('a', href=url_base+'/critic-reviews'):\n",
    "                    critic_reviews = summary.find('a', href=url_base+'/critic-reviews').find('span').text\n",
    "                    metacritic_dict['critic_reviews'].append(int(critic_reviews))\n",
    "                elif summary.find('a', href=url_base+'/user-reviews'):\n",
    "                    user_reviews = summary.find('a', href=url_base+'/user-reviews')\n",
    "                    metacritic_dict['user_ratings'].append(int(user_reviews.text.replace(' Ratings','')))       \n",
    "\n",
    "bf_metacritic = pd.DataFrame(metacritic_dict, columns = ['title', 'platform', 'metascore', 'critic_reviews','pos_critic_count','mix_critic_count','neg_critic_count', 'user_score', 'user_ratings'])\n",
    "\n",
    "bf_metacritic"
   ]
  },
  {
   "cell_type": "code",
   "execution_count": 188,
   "metadata": {},
   "outputs": [],
   "source": [
    "bf_metacritic.to_csv(r'/Users/liuba/Desktop/bf_metacritic.csv')"
   ]
  },
  {
   "cell_type": "code",
   "execution_count": 204,
   "metadata": {},
   "outputs": [],
   "source": [
    "import time\n",
    "TodaysDate = time.strftime(\"%d%m%Y-%H%M%S\")\n",
    "excelfilename = TodaysDate +\".xlsx\"\n",
    "bf_metacritic.to_excel (r'/Users/liuba/Desktop/files/bf_metacritic_'+excelfilename, index = False, header=True)"
   ]
  },
  {
   "cell_type": "code",
   "execution_count": null,
   "metadata": {},
   "outputs": [],
   "source": []
  }
 ]
}